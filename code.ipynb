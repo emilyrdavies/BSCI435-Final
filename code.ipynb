{
 "cells": [
  {
   "cell_type": "code",
   "execution_count": null,
   "id": "b90c0e93",
   "metadata": {},
   "outputs": [
    {
     "name": "stdout",
     "output_type": "stream",
     "text": [
      "Hello world\n"
     ]
    }
   ],
   "source": [
    "import matplotlib.pyplot as plt \n",
    "import scipy.integrate \n",
    "import numpy as np\n",
    "\n",
    "\n",
    "pars = {} \n",
    "pars['mu'] = 0.1 # dopamine sensitivity\n",
    "pars['lambda'] = 0 # dopamine sensitivty of nucleus accumbens\n",
    "pars['nA'] = 0 # amygdala self-inhibition strength \n",
    "pars['a'] = 0 # corticol inhibition of amygdala strength  \n",
    "\n",
    "\n",
    "# sigmoidal function that represents dopamine modulation on all areas of network \n",
    "def f_mu(X, delta, pars):\n",
    "    return (1/((np.e)^(pars['mu']*(X-delta)+1))) - 0.5\n",
    "\n",
    "# sigmoidal function that represents dopamine modulation specifically on nucleus accumbens\n",
    "def f_lambda(X, delta, pars):\n",
    "    return (1/((np.e)^(pars['lambda']*(X-delta)+1))) - 0.5\n",
    "\n",
    "def network(x, t, pars):\n",
    "    '''\n",
    "    O = orbitofrontal cortex \n",
    "    C = cingulate cortex \n",
    "    A = amygdala \n",
    "    T = thalamus \n",
    "    S = ventral striatum/nucleus accumbens\n",
    "    delta = dopamine/ventral tegmental area\n",
    "\n",
    "    '''\n",
    "    O, C, A, T, S, delta = x\n",
    "    dO_dt = -pars['n']*O + pars['m']*A + pars['m']*T + f_mu(O,delta,pars)\n",
    "    dC_dt = pars['m']*O - pars['n']*C + pars['m']*T + f_mu(C,delta,pars)\n",
    "    dA_dt = -pars['a']*O - pars['a']*C - pars['nA']*A + pars['m']*T + pars['m']*delta + f_mu(A,delta,pars)\n",
    "    dT_dt = pars['m']*O + pars['m']*C + pars['m']*A - pars['n']*T + pars['m']*S + f_mu(T,delta,pars) + 1\n",
    "    dS_dt = pars['b1']*O + pars['b2']*A + pars['m']*T - pars['n']*S - pars['m']*delta + f_lambda(S,delta,pars)\n",
    "    ddelta_dt = pars['m']*(O + C + A + T + A) - pars['n']*delta\n",
    "\n",
    "    return (dO_dt, dC_dt, dA_dt, dT_dt, dS_dt, ddelta_dt)\n",
    "\n"
   ]
  }
 ],
 "metadata": {
  "kernelspec": {
   "display_name": "Python 3",
   "language": "python",
   "name": "python3"
  },
  "language_info": {
   "codemirror_mode": {
    "name": "ipython",
    "version": 3
   },
   "file_extension": ".py",
   "mimetype": "text/x-python",
   "name": "python",
   "nbconvert_exporter": "python",
   "pygments_lexer": "ipython3",
   "version": "3.10.12"
  }
 },
 "nbformat": 4,
 "nbformat_minor": 5
}
